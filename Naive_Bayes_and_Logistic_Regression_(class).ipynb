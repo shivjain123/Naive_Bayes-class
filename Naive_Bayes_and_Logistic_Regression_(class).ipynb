{
  "nbformat": 4,
  "nbformat_minor": 0,
  "metadata": {
    "colab": {
      "name": "Naive Bayes and Logistic Regression (class).ipynb",
      "provenance": [],
      "authorship_tag": "ABX9TyN1/uocJ1KAH5eCpHLtjo+a",
      "include_colab_link": true
    },
    "kernelspec": {
      "name": "python3",
      "display_name": "Python 3"
    },
    "language_info": {
      "name": "python"
    }
  },
  "cells": [
    {
      "cell_type": "markdown",
      "metadata": {
        "id": "view-in-github",
        "colab_type": "text"
      },
      "source": [
        "<a href=\"https://colab.research.google.com/github/shivjain123/Naive_Bayes-class/blob/master/Naive_Bayes_and_Logistic_Regression_(class).ipynb\" target=\"_parent\"><img src=\"https://colab.research.google.com/assets/colab-badge.svg\" alt=\"Open In Colab\"/></a>"
      ]
    },
    {
      "cell_type": "code",
      "metadata": {
        "colab": {
          "base_uri": "https://localhost:8080/"
        },
        "id": "8-JsNgULargP",
        "outputId": "c8a4031a-6946-4d4e-cb94-58fdaba6d68f"
      },
      "source": [
        "import pandas as p\n",
        "\n",
        "df = p.read_csv(\"https://raw.githubusercontent.com/whitehatjr/datasets/master/C120/income.csv\")\n",
        "\n",
        "print(df.head())"
      ],
      "execution_count": 1,
      "outputs": [
        {
          "output_type": "stream",
          "text": [
            "   age          workclass  ...  native-country  income\n",
            "0   39          State-gov  ...   United-States   <=50K\n",
            "1   50   Self-emp-not-inc  ...   United-States   <=50K\n",
            "2   38            Private  ...   United-States   <=50K\n",
            "3   53            Private  ...   United-States   <=50K\n",
            "4   28            Private  ...            Cuba   <=50K\n",
            "\n",
            "[5 rows x 14 columns]\n"
          ],
          "name": "stdout"
        }
      ]
    },
    {
      "cell_type": "code",
      "metadata": {
        "colab": {
          "base_uri": "https://localhost:8080/",
          "height": 300
        },
        "id": "KVd7sPLRe-M2",
        "outputId": "822706bd-45f6-44a7-cc50-69a2a5f56bd6"
      },
      "source": [
        "df.describe()"
      ],
      "execution_count": 2,
      "outputs": [
        {
          "output_type": "execute_result",
          "data": {
            "text/html": [
              "<div>\n",
              "<style scoped>\n",
              "    .dataframe tbody tr th:only-of-type {\n",
              "        vertical-align: middle;\n",
              "    }\n",
              "\n",
              "    .dataframe tbody tr th {\n",
              "        vertical-align: top;\n",
              "    }\n",
              "\n",
              "    .dataframe thead th {\n",
              "        text-align: right;\n",
              "    }\n",
              "</style>\n",
              "<table border=\"1\" class=\"dataframe\">\n",
              "  <thead>\n",
              "    <tr style=\"text-align: right;\">\n",
              "      <th></th>\n",
              "      <th>age</th>\n",
              "      <th>education-num</th>\n",
              "      <th>capital-gain</th>\n",
              "      <th>capital-loss</th>\n",
              "      <th>hours-per-week</th>\n",
              "    </tr>\n",
              "  </thead>\n",
              "  <tbody>\n",
              "    <tr>\n",
              "      <th>count</th>\n",
              "      <td>45222.000000</td>\n",
              "      <td>45222.000000</td>\n",
              "      <td>45222.000000</td>\n",
              "      <td>45222.000000</td>\n",
              "      <td>45222.000000</td>\n",
              "    </tr>\n",
              "    <tr>\n",
              "      <th>mean</th>\n",
              "      <td>38.547941</td>\n",
              "      <td>10.118460</td>\n",
              "      <td>1101.430344</td>\n",
              "      <td>88.595418</td>\n",
              "      <td>40.938017</td>\n",
              "    </tr>\n",
              "    <tr>\n",
              "      <th>std</th>\n",
              "      <td>13.217870</td>\n",
              "      <td>2.552881</td>\n",
              "      <td>7506.430084</td>\n",
              "      <td>404.956092</td>\n",
              "      <td>12.007508</td>\n",
              "    </tr>\n",
              "    <tr>\n",
              "      <th>min</th>\n",
              "      <td>17.000000</td>\n",
              "      <td>1.000000</td>\n",
              "      <td>0.000000</td>\n",
              "      <td>0.000000</td>\n",
              "      <td>1.000000</td>\n",
              "    </tr>\n",
              "    <tr>\n",
              "      <th>25%</th>\n",
              "      <td>28.000000</td>\n",
              "      <td>9.000000</td>\n",
              "      <td>0.000000</td>\n",
              "      <td>0.000000</td>\n",
              "      <td>40.000000</td>\n",
              "    </tr>\n",
              "    <tr>\n",
              "      <th>50%</th>\n",
              "      <td>37.000000</td>\n",
              "      <td>10.000000</td>\n",
              "      <td>0.000000</td>\n",
              "      <td>0.000000</td>\n",
              "      <td>40.000000</td>\n",
              "    </tr>\n",
              "    <tr>\n",
              "      <th>75%</th>\n",
              "      <td>47.000000</td>\n",
              "      <td>13.000000</td>\n",
              "      <td>0.000000</td>\n",
              "      <td>0.000000</td>\n",
              "      <td>45.000000</td>\n",
              "    </tr>\n",
              "    <tr>\n",
              "      <th>max</th>\n",
              "      <td>90.000000</td>\n",
              "      <td>16.000000</td>\n",
              "      <td>99999.000000</td>\n",
              "      <td>4356.000000</td>\n",
              "      <td>99.000000</td>\n",
              "    </tr>\n",
              "  </tbody>\n",
              "</table>\n",
              "</div>"
            ],
            "text/plain": [
              "                age  education-num  capital-gain  capital-loss  hours-per-week\n",
              "count  45222.000000   45222.000000  45222.000000  45222.000000    45222.000000\n",
              "mean      38.547941      10.118460   1101.430344     88.595418       40.938017\n",
              "std       13.217870       2.552881   7506.430084    404.956092       12.007508\n",
              "min       17.000000       1.000000      0.000000      0.000000        1.000000\n",
              "25%       28.000000       9.000000      0.000000      0.000000       40.000000\n",
              "50%       37.000000      10.000000      0.000000      0.000000       40.000000\n",
              "75%       47.000000      13.000000      0.000000      0.000000       45.000000\n",
              "max       90.000000      16.000000  99999.000000   4356.000000       99.000000"
            ]
          },
          "metadata": {
            "tags": []
          },
          "execution_count": 2
        }
      ]
    },
    {
      "cell_type": "code",
      "metadata": {
        "id": "QyULavM2fVgY"
      },
      "source": [
        "from sklearn.model_selection import train_test_split as tts\n",
        "\n",
        "features = df[[\"age\", \"education-num\", \"hours-per-week\", \"capital-gain\", \"capital-loss\"]]\n",
        "labels = df[\"income\"]\n",
        "\n",
        "f_train, f_test, l_train, l_test = tts(features, labels, test_size = 0.25, random_state = 1)"
      ],
      "execution_count": null,
      "outputs": []
    },
    {
      "cell_type": "code",
      "metadata": {
        "id": "Nlxne8KZgtJv"
      },
      "source": [
        "from sklearn.naive_bayes import GaussianNB as g\n",
        "from sklearn.metrics import accuracy_score as acs\n",
        "from sklearn.preprocessing import StandardScaler\n",
        "\n",
        "sc = StandardScaler()\n",
        "\n",
        "f_train = sc.fit_transform(f_train)\n",
        "f_test = sc.fit_transform(f_test)\n",
        "\n",
        "model = g()\n",
        "\n",
        "model.fit(f_train, l_train)"
      ],
      "execution_count": null,
      "outputs": []
    },
    {
      "cell_type": "code",
      "metadata": {
        "colab": {
          "base_uri": "https://localhost:8080/"
        },
        "id": "2rVJRSwxhwx8",
        "outputId": "b33f8dda-3efb-49a7-f200-8e945e29b533"
      },
      "source": [
        "label_prediction = model.predict(f_test)\n",
        "my_accuracy_score = acs(l_test, label_prediction)\n",
        "\n",
        "print(my_accuracy_score)"
      ],
      "execution_count": 10,
      "outputs": [
        {
          "output_type": "stream",
          "text": [
            "0.7920573147001592\n"
          ],
          "name": "stdout"
        }
      ]
    },
    {
      "cell_type": "code",
      "metadata": {
        "id": "y-aZkOuOiVve"
      },
      "source": [
        "from sklearn.linear_model import LogisticRegression as lr\n",
        "\n",
        "model2 = lr(random_state = 0)\n",
        "\n",
        "model2.fit(f_train, l_train)\n",
        "\n",
        "new_prediction = model2.predict(f_test)\n",
        "\n",
        "print(new_prediction)\n",
        "\n",
        "new_acc_score = acs(l_test, new_prediction)\n",
        "\n",
        "print(new_acc_score)"
      ],
      "execution_count": null,
      "outputs": []
    },
    {
      "cell_type": "code",
      "metadata": {
        "id": "bWu9_QBQjqZW"
      },
      "source": [
        "age = float(input(\"Please enter your age.\"))\n",
        "education_num = float(input(\"Please enter your Education number.\"))\n",
        "hours_per_week = float(input(\"Please enter how many hours you work per week.\"))\n",
        "capital_gain = float(input(\"Please enter your capital gain.\"))\n",
        "capital_loss = float(input(\"Please enter your capital loss.\"))\n",
        "\n",
        "test = sc.transform([[age, education_num, hours_per_week, capital_gain, capital_loss]])\n",
        "final_test = model2.predict(test)\n",
        "\n",
        "if final_test == '>50k':\n",
        "  print(\"You income is good.\")\n",
        "else :\n",
        "  print(\"Your income is not that good.\")"
      ],
      "execution_count": null,
      "outputs": []
    }
  ]
}